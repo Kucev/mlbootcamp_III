{
 "cells": [
  {
   "cell_type": "markdown",
   "metadata": {
    "deletable": true,
    "editable": true
   },
   "source": [
    "Работа с фичами была минимальная, так как фич было мало, названия не информативные, как их итерпретировать тоже не понятно. \n",
    "Что еще больше смущало, так это дубликаты, причем с разным значением таргета, т е в данных находились люди, у которых были оданаковые все параметры, но при этом один игрок ушел из игры, а другой остался. "
   ]
  },
  {
   "cell_type": "code",
   "execution_count": 1,
   "metadata": {
    "collapsed": false,
    "deletable": true,
    "editable": true
   },
   "outputs": [],
   "source": [
    "import pandas as pd;\n",
    "import random\n",
    "import numpy as np;\n",
    "import matplotlib.pyplot as plt\n",
    "import re\n",
    "%matplotlib inline"
   ]
  },
  {
   "cell_type": "markdown",
   "metadata": {
    "deletable": true,
    "editable": true
   },
   "source": [
    "Плюс после сообщения Василия Рубцова стало ясно, что главная задача - не переобучиться <img src=\"https://pp.userapi.com/c637128/v637128592/4a64c/GeqGDODk5iE.jpg\">  \n",
    "Для этого я не делал много сложных фич, не использовал стекинг, старался делать так, чтобы результа на cv совпадал с пабликом"
   ]
  },
  {
   "cell_type": "code",
   "execution_count": 2,
   "metadata": {
    "collapsed": false,
    "deletable": true,
    "editable": true
   },
   "outputs": [],
   "source": [
    "train = pd.read_csv('data/x_train.csv',sep = ';')\n",
    "test = pd.read_csv('data/x_test.csv',sep = ';')\n",
    "y = pd.read_csv('data/y_train.csv',sep = ';',header= None)"
   ]
  },
  {
   "cell_type": "code",
   "execution_count": 3,
   "metadata": {
    "collapsed": true,
    "deletable": true,
    "editable": true
   },
   "outputs": [],
   "source": [
    "train['y'] = y\n",
    "test['y'] = -1"
   ]
  },
  {
   "cell_type": "code",
   "execution_count": 4,
   "metadata": {
    "collapsed": true,
    "deletable": true,
    "editable": true
   },
   "outputs": [],
   "source": [
    "data = train.copy()\n",
    "data = data.append(test)"
   ]
  },
  {
   "cell_type": "code",
   "execution_count": 5,
   "metadata": {
    "collapsed": false,
    "deletable": true,
    "editable": true
   },
   "outputs": [
    {
     "data": {
      "text/html": [
       "<div>\n",
       "<table border=\"1\" class=\"dataframe\">\n",
       "  <thead>\n",
       "    <tr style=\"text-align: right;\">\n",
       "      <th></th>\n",
       "      <th>maxPlayerLevel</th>\n",
       "      <th>numberOfAttemptedLevels</th>\n",
       "      <th>attemptsOnTheHighestLevel</th>\n",
       "      <th>totalNumOfAttempts</th>\n",
       "      <th>averageNumOfTurnsPerCompletedLevel</th>\n",
       "      <th>doReturnOnLowerLevels</th>\n",
       "      <th>numberOfBoostersUsed</th>\n",
       "      <th>fractionOfUsefullBoosters</th>\n",
       "      <th>totalScore</th>\n",
       "      <th>totalBonusScore</th>\n",
       "      <th>totalStarsCount</th>\n",
       "      <th>numberOfDaysActuallyPlayed</th>\n",
       "      <th>y</th>\n",
       "    </tr>\n",
       "  </thead>\n",
       "  <tbody>\n",
       "    <tr>\n",
       "      <th>0</th>\n",
       "      <td>39</td>\n",
       "      <td>10</td>\n",
       "      <td>3</td>\n",
       "      <td>17</td>\n",
       "      <td>24.444444</td>\n",
       "      <td>1</td>\n",
       "      <td>5</td>\n",
       "      <td>0.400000</td>\n",
       "      <td>2650000</td>\n",
       "      <td>1375</td>\n",
       "      <td>21</td>\n",
       "      <td>2</td>\n",
       "      <td>0</td>\n",
       "    </tr>\n",
       "    <tr>\n",
       "      <th>1</th>\n",
       "      <td>21</td>\n",
       "      <td>22</td>\n",
       "      <td>19</td>\n",
       "      <td>55</td>\n",
       "      <td>17.045455</td>\n",
       "      <td>1</td>\n",
       "      <td>6</td>\n",
       "      <td>0.333333</td>\n",
       "      <td>5614000</td>\n",
       "      <td>3825</td>\n",
       "      <td>51</td>\n",
       "      <td>4</td>\n",
       "      <td>1</td>\n",
       "    </tr>\n",
       "    <tr>\n",
       "      <th>2</th>\n",
       "      <td>5</td>\n",
       "      <td>6</td>\n",
       "      <td>1</td>\n",
       "      <td>6</td>\n",
       "      <td>8.400000</td>\n",
       "      <td>0</td>\n",
       "      <td>1</td>\n",
       "      <td>1.000000</td>\n",
       "      <td>857000</td>\n",
       "      <td>1150</td>\n",
       "      <td>14</td>\n",
       "      <td>1</td>\n",
       "      <td>1</td>\n",
       "    </tr>\n",
       "    <tr>\n",
       "      <th>3</th>\n",
       "      <td>21</td>\n",
       "      <td>2</td>\n",
       "      <td>5</td>\n",
       "      <td>6</td>\n",
       "      <td>19.000000</td>\n",
       "      <td>0</td>\n",
       "      <td>1</td>\n",
       "      <td>0.000000</td>\n",
       "      <td>120000</td>\n",
       "      <td>0</td>\n",
       "      <td>1</td>\n",
       "      <td>1</td>\n",
       "      <td>1</td>\n",
       "    </tr>\n",
       "    <tr>\n",
       "      <th>4</th>\n",
       "      <td>4</td>\n",
       "      <td>5</td>\n",
       "      <td>1</td>\n",
       "      <td>5</td>\n",
       "      <td>9.600000</td>\n",
       "      <td>0</td>\n",
       "      <td>1</td>\n",
       "      <td>1.000000</td>\n",
       "      <td>857000</td>\n",
       "      <td>1075</td>\n",
       "      <td>12</td>\n",
       "      <td>1</td>\n",
       "      <td>0</td>\n",
       "    </tr>\n",
       "  </tbody>\n",
       "</table>\n",
       "</div>"
      ],
      "text/plain": [
       "   maxPlayerLevel  numberOfAttemptedLevels  attemptsOnTheHighestLevel  \\\n",
       "0              39                       10                          3   \n",
       "1              21                       22                         19   \n",
       "2               5                        6                          1   \n",
       "3              21                        2                          5   \n",
       "4               4                        5                          1   \n",
       "\n",
       "   totalNumOfAttempts  averageNumOfTurnsPerCompletedLevel  \\\n",
       "0                  17                           24.444444   \n",
       "1                  55                           17.045455   \n",
       "2                   6                            8.400000   \n",
       "3                   6                           19.000000   \n",
       "4                   5                            9.600000   \n",
       "\n",
       "   doReturnOnLowerLevels  numberOfBoostersUsed  fractionOfUsefullBoosters  \\\n",
       "0                      1                     5                   0.400000   \n",
       "1                      1                     6                   0.333333   \n",
       "2                      0                     1                   1.000000   \n",
       "3                      0                     1                   0.000000   \n",
       "4                      0                     1                   1.000000   \n",
       "\n",
       "   totalScore  totalBonusScore  totalStarsCount  numberOfDaysActuallyPlayed  y  \n",
       "0     2650000             1375               21                           2  0  \n",
       "1     5614000             3825               51                           4  1  \n",
       "2      857000             1150               14                           1  1  \n",
       "3      120000                0                1                           1  1  \n",
       "4      857000             1075               12                           1  0  "
      ]
     },
     "execution_count": 5,
     "metadata": {},
     "output_type": "execute_result"
    }
   ],
   "source": [
    "data.head()"
   ]
  },
  {
   "cell_type": "markdown",
   "metadata": {
    "deletable": true,
    "editable": true
   },
   "source": [
    "Начинаем просто генерить фичи, старался сделать наиболее логичные, некоторые фичи взял из обсуждения задачи в  telegram"
   ]
  },
  {
   "cell_type": "code",
   "execution_count": 7,
   "metadata": {
    "collapsed": true,
    "deletable": true,
    "editable": true
   },
   "outputs": [],
   "source": [
    "data['m0'] = data['attemptsOnTheHighestLevel'] / data['maxPlayerLevel']\n",
    "data['m1'] = data['attemptsOnTheHighestLevel'] / data['numberOfAttemptedLevels']\n",
    "data['m2'] = data['attemptsOnTheHighestLevel'] / data['totalNumOfAttempts']\n",
    "data['m3'] = data['numberOfAttemptedLevels'] / data['maxPlayerLevel']\n",
    "data['m4'] = data['fractionOfUsefullBoosters'] / data['numberOfBoostersUsed']\n",
    "data['m5'] = data['totalBonusScore'] / data['totalScore']\n",
    "data['m6'] = data['averageNumOfTurnsPerCompletedLevel'] * data['maxPlayerLevel']"
   ]
  },
  {
   "cell_type": "code",
   "execution_count": 8,
   "metadata": {
    "collapsed": true,
    "deletable": true,
    "editable": true
   },
   "outputs": [],
   "source": [
    "data['d0'] = data['maxPlayerLevel'] / data['numberOfDaysActuallyPlayed']\n",
    "data['d1'] = data['numberOfAttemptedLevels'] / data['numberOfDaysActuallyPlayed']\n",
    "data['d2'] = data['attemptsOnTheHighestLevel'] / data['numberOfDaysActuallyPlayed']\n",
    "data['d3'] = data['totalNumOfAttempts'] / data['numberOfDaysActuallyPlayed']\n",
    "data['d4'] = data['doReturnOnLowerLevels'] / data['numberOfDaysActuallyPlayed']\n",
    "data['d5'] = data['numberOfBoostersUsed'] / data['numberOfDaysActuallyPlayed']\n",
    "data['d6'] = data['fractionOfUsefullBoosters'] / data['numberOfDaysActuallyPlayed']\n",
    "data['d7'] = data['totalScore'] / data['numberOfDaysActuallyPlayed']\n",
    "data['d8'] = data['totalBonusScore'] / data['numberOfDaysActuallyPlayed']\n",
    "data['d9'] = data['totalStarsCount'] / data['numberOfDaysActuallyPlayed']\n",
    "data['d10'] = data['totalStarsCount'] / data['totalBonusScore']\n",
    "data['d11'] = data['numberOfAttemptedLevels'] / data['totalNumOfAttempts']"
   ]
  },
  {
   "cell_type": "code",
   "execution_count": 9,
   "metadata": {
    "collapsed": true,
    "deletable": true,
    "editable": true
   },
   "outputs": [],
   "source": [
    "data['c0'] = data['totalBonusScore'] + data['totalStarsCount']\n",
    "data['c1'] = (data['totalBonusScore'] + data['totalStarsCount']) / data['totalScore']\n",
    "data['c2'] = data['totalBonusScore'] / data['numberOfBoostersUsed']\n",
    "data['c3'] = data['totalStarsCount'] / data['numberOfBoostersUsed']"
   ]
  },
  {
   "cell_type": "code",
   "execution_count": 10,
   "metadata": {
    "collapsed": true,
    "deletable": true,
    "editable": true
   },
   "outputs": [],
   "source": [
    "data['k0'] = data['totalNumOfAttempts'] - data['attemptsOnTheHighestLevel']\n",
    "data['k1'] = data['maxPlayerLevel'] - data['numberOfAttemptedLevels']"
   ]
  },
  {
   "cell_type": "code",
   "execution_count": 11,
   "metadata": {
    "collapsed": false,
    "deletable": true,
    "editable": true
   },
   "outputs": [
    {
     "data": {
      "image/png": "[encoded data removed]",
      "text/plain": [
       "<matplotlib.figure.Figure at 0x7fbe10940310>"
      ]
     },
     "metadata": {},
     "output_type": "display_data"
    }
   ],
   "source": [
    "fig, ax = plt.subplots(figsize=(5, 5))\n",
    "ax.matshow(data.corr(), vmin=-1, vmax=1)\n",
    "plt.yticks(range(data.shape[1]), data.columns)\n",
    "plt.xticks(range(data.shape[1]), data.columns, rotation=45, ha=\"left\" )\n",
    "plt.show()"
   ]
  },
  {
   "cell_type": "code",
   "execution_count": 12,
   "metadata": {
    "collapsed": false,
    "deletable": true,
    "editable": true
   },
   "outputs": [],
   "source": [
    "data = data.replace([np.inf, -np.inf], np.nan)"
   ]
  },
  {
   "cell_type": "code",
   "execution_count": 13,
   "metadata": {
    "collapsed": false,
    "deletable": true,
    "editable": true
   },
   "outputs": [],
   "source": [
    "data = data.fillna(data.mean())"
   ]
  },
  {
   "cell_type": "code",
   "execution_count": 14,
   "metadata": {
    "collapsed": false,
    "deletable": true,
    "editable": true
   },
   "outputs": [],
   "source": [
    "data.to_pickle('data.pik')"
   ]
  }
 ],
 "metadata": {
  "kernelspec": {
   "display_name": "Python 2",
   "language": "python",
   "name": "python2"
  },
  "language_info": {
   "codemirror_mode": {
    "name": "ipython",
    "version": 2
   },
   "file_extension": ".py",
   "mimetype": "text/x-python",
   "name": "python",
   "nbconvert_exporter": "python",
   "pygments_lexer": "ipython2",
   "version": "2.7.13"
  }
 },
 "nbformat": 4,
 "nbformat_minor": 0
}
