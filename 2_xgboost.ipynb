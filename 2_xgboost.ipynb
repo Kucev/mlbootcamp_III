{
 "cells": [
  {
   "cell_type": "markdown",
   "metadata": {
    "deletable": true,
    "editable": true
   },
   "source": [
    "Первым делом решил попробовать xgboost.\n",
    "Пробовал Lightgbm, но хорошего результата не смог добиться"
   ]
  },
  {
   "cell_type": "code",
   "execution_count": 2,
   "metadata": {
    "collapsed": false,
    "deletable": true,
    "editable": true
   },
   "outputs": [],
   "source": [
    "import pandas as pd;\n",
    "import random\n",
    "import numpy as np;\n",
    "import matplotlib.pyplot as plt\n",
    "from sklearn.metrics import log_loss\n",
    "from sklearn.utils import shuffle\n",
    "from sklearn.cross_validation import train_test_split\n",
    "from sklearn.preprocessing import StandardScaler\n",
    "import xgboost as xgb\n",
    "%matplotlib inline"
   ]
  },
  {
   "cell_type": "code",
   "execution_count": 25,
   "metadata": {
    "collapsed": false,
    "deletable": true,
    "editable": true
   },
   "outputs": [],
   "source": [
    "data = pd.read_pickle('data.pik')"
   ]
  },
  {
   "cell_type": "markdown",
   "metadata": {
    "deletable": true,
    "editable": true
   },
   "source": [
    "Данные можно было не нормировать для xgb, но и хуже от этого не будет"
   ]
  },
  {
   "cell_type": "code",
   "execution_count": 17,
   "metadata": {
    "collapsed": false,
    "deletable": true,
    "editable": true
   },
   "outputs": [],
   "source": [
    "train = data[data['y'] > -1].copy()\n",
    "test = data[data['y'] == -1].copy()\n",
    "y = train.pop('y')\n",
    "del test['y']\n",
    "X = train\n",
    "ss = StandardScaler()\n",
    "ss.fit(X)\n",
    "X = ss.transform(X)\n",
    "test = ss.transform(test)\n",
    "X,y = shuffle(X,y,random_state = 42)"
   ]
  },
  {
   "cell_type": "code",
   "execution_count": 19,
   "metadata": {
    "collapsed": true,
    "deletable": true,
    "editable": true
   },
   "outputs": [],
   "source": [
    "dtrain = xgb.DMatrix(X, label=y)\n",
    "dtest = xgb.DMatrix(test)"
   ]
  },
  {
   "cell_type": "markdown",
   "metadata": {
    "deletable": true,
    "editable": true
   },
   "source": [
    "Параметры пробовал подбирать с помощью hyperopt, но это ничего не дало, так как получался огромные std на cv. \n",
    "В итоге решил оставить самые \"стандартные\"\n",
    "\n",
    "Считалось все на стационарном копьютере, в нем строит Nvidia GeForce GTX 970.\n",
    "Есть сборка [GPU Accelerated XGBoost](http://dmlc.ml/2016/12/14/GPU-accelerated-xgboost.html), которая ускоряет расчет где-то в 3-6 раз"
   ]
  },
  {
   "cell_type": "code",
   "execution_count": 28,
   "metadata": {
    "collapsed": false,
    "deletable": true,
    "editable": true
   },
   "outputs": [
    {
     "name": "stdout",
     "output_type": "stream",
     "text": [
      "CPU times: user 20min 8s, sys: 1min 4s, total: 21min 13s\n",
      "Wall time: 5min 20s\n"
     ]
    }
   ],
   "source": [
    "%%time\n",
    "param = {'max_depth':4, 'eta':0.0005, 'silent':0,\n",
    "         'objective':'binary:logistic',\n",
    "         'subsample':0.8,\n",
    "         'colsample_bytree':0.8,\n",
    "         'seed':202,\n",
    "         #'scale_pos_weight':scale_pos_weight   с этой штуковиной почему-то результат был на мнооого хуже\n",
    "         'updater':'grow_gpu'\n",
    "        }\n",
    "param['eval_metric'] = 'logloss'\n",
    "trees = 500000\n",
    "cv = xgb.cv(param, dtrain, metrics=('logloss'), show_stdv=True,\n",
    "            num_boost_round=trees,nfold=5,early_stopping_rounds = 50)"
   ]
  },
  {
   "cell_type": "code",
   "execution_count": 29,
   "metadata": {
    "collapsed": false,
    "deletable": true,
    "editable": true
   },
   "outputs": [
    {
     "name": "stdout",
     "output_type": "stream",
     "text": [
      "test-logloss-mean     0.380594\n",
      "test-logloss-std      0.006986\n",
      "train-logloss-mean    0.363086\n",
      "train-logloss-std     0.001775\n",
      "Name: 12012, dtype: float64\n"
     ]
    },
    {
     "data": {
      "image/png": "[encoded data removed]",
      "text/plain": [
       "<matplotlib.figure.Figure at 0x7f01b01cd910>"
      ]
     },
     "metadata": {},
     "output_type": "display_data"
    }
   ],
   "source": [
    "cv[1000:].plot(y=['test-logloss-mean', 'train-logloss-mean'], secondary_y='train-logloss-mean')\n",
    "print cv.loc[cv['test-logloss-mean'].argmin()]\n",
    "trees = cv['test-logloss-mean'].argmin()"
   ]
  },
  {
   "cell_type": "markdown",
   "metadata": {},
   "source": [
    "test-logloss-std 0.006986 говорит нам, что настраивать параметры как-бы смысла нет."
   ]
  },
  {
   "cell_type": "markdown",
   "metadata": {
    "deletable": true,
    "editable": true
   },
   "source": [
    "С помощью кросс-валидации подбираем необходимое количество деревьев и запускаем xgb  на всей тестовой выборке.  "
   ]
  },
  {
   "cell_type": "code",
   "execution_count": 31,
   "metadata": {
    "collapsed": false,
    "deletable": true,
    "editable": true
   },
   "outputs": [
    {
     "name": "stdout",
     "output_type": "stream",
     "text": [
      "CPU times: user 4min 7s, sys: 14.3 s, total: 4min 21s\n",
      "Wall time: 1min 5s\n"
     ]
    }
   ],
   "source": [
    "%%time\n",
    "bst = xgb.train(param,dtrain,trees)\n",
    "a = pd.DataFrame()\n",
    "a['y'] = bst.predict(dtest)\n",
    "a.to_csv('xgb.csv', index = False, header = False)"
   ]
  }
 ],
 "metadata": {
  "kernelspec": {
   "display_name": "Python 2",
   "language": "python",
   "name": "python2"
  },
  "language_info": {
   "codemirror_mode": {
    "name": "ipython",
    "version": 2
   },
   "file_extension": ".py",
   "mimetype": "text/x-python",
   "name": "python",
   "nbconvert_exporter": "python",
   "pygments_lexer": "ipython2",
   "version": "2.7.13"
  }
 },
 "nbformat": 4,
 "nbformat_minor": 0
}
